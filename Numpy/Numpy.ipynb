{
 "cells": [
  {
   "cell_type": "markdown",
   "id": "b7e7534b",
   "metadata": {},
   "source": [
    "## Indexation normale"
   ]
  },
  {
   "cell_type": "code",
   "execution_count": 2,
   "id": "e725efac",
   "metadata": {},
   "outputs": [],
   "source": [
    "import numpy as np"
   ]
  },
  {
   "cell_type": "code",
   "execution_count": 8,
   "id": "9495823a",
   "metadata": {},
   "outputs": [
    {
     "data": {
      "text/plain": [
       "1"
      ]
     },
     "execution_count": 8,
     "metadata": {},
     "output_type": "execute_result"
    }
   ],
   "source": [
    "arr= np.array([[[1,2,7],[3,4,8]],[[4,9,2],[5,3,1]]])\n",
    "arr.ndim\n",
    "arr[1] # deuxieme matrice\n",
    "arr[1][0] # premier ligne de deuxieme matrice\n",
    "arr[0][0][0] #Premier element du premier matrice au premier ligne"
   ]
  },
  {
   "cell_type": "code",
   "execution_count": 22,
   "id": "81dabfe9",
   "metadata": {},
   "outputs": [
    {
     "data": {
      "text/plain": [
       "array([[[1, 2, 7],\n",
       "        [3, 4, 8]],\n",
       "\n",
       "       [[0, 9, 2],\n",
       "        [5, 3, 1]]])"
      ]
     },
     "execution_count": 22,
     "metadata": {},
     "output_type": "execute_result"
    }
   ],
   "source": [
    "sub=arr[1][0]\n",
    "sub[0]=0\n",
    "arr\n",
    "# reference: sub est un pointeur vers la ligne de arr ce qui explique le changement de valeur de tab original\n"
   ]
  },
  {
   "cell_type": "markdown",
   "id": "892e8033",
   "metadata": {},
   "source": [
    "## Indexation negative"
   ]
  },
  {
   "cell_type": "code",
   "execution_count": 26,
   "id": "34e84dcc",
   "metadata": {},
   "outputs": [
    {
     "data": {
      "text/plain": [
       "array([0, 9, 2])"
      ]
     },
     "execution_count": 26,
     "metadata": {},
     "output_type": "execute_result"
    }
   ],
   "source": [
    "arr[-1,-2]"
   ]
  },
  {
   "cell_type": "markdown",
   "id": "c0101ccb",
   "metadata": {},
   "source": [
    "## NDARRAY SLICING"
   ]
  },
  {
   "cell_type": "code",
   "execution_count": 42,
   "id": "3580088e",
   "metadata": {},
   "outputs": [
    {
     "name": "stdout",
     "output_type": "stream",
     "text": [
      "[7 5 3]\n"
     ]
    }
   ],
   "source": [
    "arr=np.array([1,2,3,4,5,6,7,8])\n",
    "arr[2:5]\n",
    "arr[2:5:2]\n",
    "arr[8:2:-1]\n",
    "print(arr[-2:1:-2])\n"
   ]
  },
  {
   "cell_type": "code",
   "execution_count": 44,
   "id": "e329a6e2",
   "metadata": {},
   "outputs": [
    {
     "data": {
      "text/plain": [
       "array([6, 7])"
      ]
     },
     "execution_count": 44,
     "metadata": {},
     "output_type": "execute_result"
    }
   ],
   "source": [
    "arr=np.array([[1,2,3,4],[5,6,7,8],[9,10,11,12]])\n",
    "arr[1,1:3]"
   ]
  },
  {
   "cell_type": "code",
   "execution_count": 57,
   "id": "b46f34dd",
   "metadata": {},
   "outputs": [
    {
     "data": {
      "text/plain": [
       "array([[ 2,  3],\n",
       "       [10, 11]])"
      ]
     },
     "execution_count": 57,
     "metadata": {},
     "output_type": "execute_result"
    }
   ],
   "source": [
    "arr[1:,1:3]\n",
    "\n",
    "arr[::2,1:3]"
   ]
  },
  {
   "cell_type": "code",
   "execution_count": 61,
   "id": "6cad26da",
   "metadata": {},
   "outputs": [
    {
     "data": {
      "text/plain": [
       "array([[ 2,  3],\n",
       "       [10, 11]])"
      ]
     },
     "execution_count": 61,
     "metadata": {},
     "output_type": "execute_result"
    }
   ],
   "source": [
    "arr[[0,2],1:3]"
   ]
  },
  {
   "cell_type": "code",
   "execution_count": 64,
   "id": "acfa7491",
   "metadata": {},
   "outputs": [
    {
     "data": {
      "text/plain": [
       "array([[ 6,  7,  8],\n",
       "       [10, 11, 12]])"
      ]
     },
     "execution_count": 64,
     "metadata": {},
     "output_type": "execute_result"
    }
   ],
   "source": [
    "arr[1:,1:]"
   ]
  },
  {
   "cell_type": "code",
   "execution_count": 66,
   "id": "3fe38b31",
   "metadata": {},
   "outputs": [
    {
     "data": {
      "text/plain": [
       "array([[ 6,  7,  8],\n",
       "       [10, 11, 12]])"
      ]
     },
     "execution_count": 66,
     "metadata": {},
     "output_type": "execute_result"
    }
   ],
   "source": [
    "arr[-2:,-3:]"
   ]
  },
  {
   "cell_type": "markdown",
   "id": "2ffea93d",
   "metadata": {},
   "source": [
    "# Type de donnees dans Numpy\n"
   ]
  },
  {
   "cell_type": "markdown",
   "id": "9083f309",
   "metadata": {},
   "source": [
    "- i - integer\n",
    "- b - boolean\n",
    "- u - unsigned integer\n",
    "- f - float\n",
    "- c - complex float\n",
    "- m - timedelta\n",
    "- o - object\n",
    "- s - string\n",
    "- u - unicode string\n",
    "- v - fixed chunk of memory for other type\n"
   ]
  },
  {
   "cell_type": "code",
   "execution_count": 67,
   "id": "3af99d2d",
   "metadata": {},
   "outputs": [
    {
     "data": {
      "text/plain": [
       "dtype('int64')"
      ]
     },
     "execution_count": 67,
     "metadata": {},
     "output_type": "execute_result"
    }
   ],
   "source": [
    "arr.dtype"
   ]
  },
  {
   "cell_type": "code",
   "execution_count": 69,
   "id": "86cd2820",
   "metadata": {},
   "outputs": [
    {
     "data": {
      "text/plain": [
       "dtype('<U5')"
      ]
     },
     "execution_count": 69,
     "metadata": {},
     "output_type": "execute_result"
    }
   ],
   "source": [
    "arr= np.array([\"un\",\"deux\",\"trois\"])\n",
    "arr.dtype"
   ]
  },
  {
   "cell_type": "code",
   "execution_count": 71,
   "id": "0413ce5c",
   "metadata": {},
   "outputs": [
    {
     "data": {
      "text/plain": [
       "dtype('int32')"
      ]
     },
     "execution_count": 71,
     "metadata": {},
     "output_type": "execute_result"
    }
   ],
   "source": [
    "arr=np.array([1,2,3,4],dtype='i')\n",
    "arr.dtype\n",
    "# important"
   ]
  },
  {
   "cell_type": "markdown",
   "id": "548a91c1",
   "metadata": {},
   "source": [
    "On peut aussi definir la taille pour i,u,f,s et u"
   ]
  },
  {
   "cell_type": "code",
   "execution_count": 72,
   "id": "8c8640d7",
   "metadata": {},
   "outputs": [
    {
     "data": {
      "text/plain": [
       "dtype('int8')"
      ]
     },
     "execution_count": 72,
     "metadata": {},
     "output_type": "execute_result"
    }
   ],
   "source": [
    "arr=np.array([1,2,3,4],dtype='i1')\n",
    "arr.dtype"
   ]
  },
  {
   "cell_type": "code",
   "execution_count": 73,
   "id": "ca941bad",
   "metadata": {},
   "outputs": [
    {
     "data": {
      "text/plain": [
       "dtype('int8')"
      ]
     },
     "execution_count": 73,
     "metadata": {},
     "output_type": "execute_result"
    }
   ],
   "source": [
    "arr=np.array(['1','2','3','4'],dtype='i1')\n",
    "arr.dtype"
   ]
  },
  {
   "cell_type": "markdown",
   "id": "74e7a732",
   "metadata": {},
   "source": [
    "# Converstion du type de donnees\n"
   ]
  },
  {
   "cell_type": "code",
   "execution_count": 78,
   "id": "e9b36d6c",
   "metadata": {},
   "outputs": [
    {
     "name": "stdout",
     "output_type": "stream",
     "text": [
      "None\n"
     ]
    }
   ],
   "source": [
    "arr=np.array([1.1,2.1,3.1])\n",
    "new = arr.astype(str) # int,bool,float,'i','S','f'\n",
    "new # Cree un nouveau tableau\n",
    "arr\n",
    "\n",
    "# verifier que le tableau est authentic (recupere la source de donnees)\n",
    "print(new.base)\n"
   ]
  },
  {
   "cell_type": "markdown",
   "id": "20f7b950",
   "metadata": {},
   "source": [
    "# Copie et vue d'un ndarray (Copy vs View)"
   ]
  },
  {
   "cell_type": "markdown",
   "id": "c133a664",
   "metadata": {},
   "source": [
    "- copie : nouveau tableau\n",
    "- view : vue du tableau d'origin"
   ]
  },
  {
   "cell_type": "code",
   "execution_count": 80,
   "id": "3a0cd828",
   "metadata": {},
   "outputs": [
    {
     "name": "stdout",
     "output_type": "stream",
     "text": [
      "[42  2  3  4  5]\n",
      "[1 2 3 4 5]\n"
     ]
    }
   ],
   "source": [
    "arr= np.array([1,2,3,4,5])\n",
    "x= arr.copy()\n",
    "arr[0]=42\n",
    "print(arr)\n",
    "print(x)"
   ]
  },
  {
   "cell_type": "code",
   "execution_count": 81,
   "id": "15695b2f",
   "metadata": {},
   "outputs": [
    {
     "name": "stdout",
     "output_type": "stream",
     "text": [
      "[42  2  3  4  5]\n",
      "[42  2  3  4  5]\n"
     ]
    }
   ],
   "source": [
    "arr= np.array([1,2,3,4,5])\n",
    "x= arr.view()\n",
    "arr[0]=42\n",
    "print(arr)\n",
    "print(x)"
   ]
  },
  {
   "cell_type": "code",
   "execution_count": 95,
   "id": "3695abd7",
   "metadata": {},
   "outputs": [
    {
     "name": "stdout",
     "output_type": "stream",
     "text": [
      "None\n",
      "None\n",
      "[1 2 3 4 5]\n",
      "[1 2 3 4 5]\n",
      "None\n"
     ]
    }
   ],
   "source": [
    "arr=np.array([1,2,3,4,5])\n",
    "x=arr.copy()\n",
    "y=arr.view()\n",
    "z=arr[1:3]\n",
    "u=arr # not authentic because it is the same arr with another name\n",
    "print(arr.base)#authentic\n",
    "print(x.base)#authentic\n",
    "print(y.base)\n",
    "print(z.base)\n",
    "print(u.base)\n"
   ]
  },
  {
   "cell_type": "markdown",
   "id": "ef3cac6e",
   "metadata": {},
   "source": [
    "# Forme d'un ndarray(shape)"
   ]
  },
  {
   "cell_type": "code",
   "execution_count": 98,
   "id": "05bbe3e8",
   "metadata": {},
   "outputs": [
    {
     "data": {
      "text/plain": [
       "(3, 4)"
      ]
     },
     "execution_count": 98,
     "metadata": {},
     "output_type": "execute_result"
    }
   ],
   "source": [
    "arr=np.array([[1,2,3,4],[5,6,7,8],[9,10,11,12]])\n",
    "arr.shape"
   ]
  },
  {
   "cell_type": "code",
   "execution_count": 109,
   "id": "48322f6e",
   "metadata": {},
   "outputs": [
    {
     "data": {
      "text/plain": [
       "(3, 2, 2)"
      ]
     },
     "execution_count": 109,
     "metadata": {},
     "output_type": "execute_result"
    }
   ],
   "source": [
    "arr=np.array([[[1,2],[3,4]],[[5,6],[7,8]],[[9,10],[11,12]]])\n",
    "\n",
    "arr.shape\n"
   ]
  },
  {
   "cell_type": "code",
   "execution_count": 105,
   "id": "701e2c32",
   "metadata": {},
   "outputs": [],
   "source": [
    "arr=np.array([[[1,2],[3,4]],[[5,6],[7,8]],[[9,10],[11,12]]]).reshape(2,3,2)\n",
    "#2 ,3,2    [[[1,2],[ 3,4],[ 5,6]],[[ 7,8],[ 9,10],[11,12]]]\n",
    "#3,4   [[1,2,3,4],[5,6,7,8],[9,10,11,12]]\n",
    "#3,4,1 [[[1],[2],[3],[4]],[[5],[6],[7],[8]],[[9],[10],[11],[12]]]\n",
    "#4,1,3,1 [[[[1],[2],[3]]],[[[4],[5],[6]]],[[[7],[8],[9]]],[[[10],[11],[12]]]]\n",
    "#12,1,1 [[[1]],[[2]],[[3]],[[4]],[[5]],[[6]],[[7]],[[8]],[[9]],[[10]],[[11]],[[12]]]"
   ]
  },
  {
   "cell_type": "code",
   "execution_count": 119,
   "id": "27d2ec1c",
   "metadata": {},
   "outputs": [
    {
     "data": {
      "text/plain": [
       "(12, 1, 1)"
      ]
     },
     "execution_count": 119,
     "metadata": {},
     "output_type": "execute_result"
    }
   ],
   "source": [
    "np.array([[[1]],[[2]],[[3]],[[4]],[[5]],[[6]],[[7]],[[8]],[[9]],[[10]],[[11]],[[12]]]).shape"
   ]
  },
  {
   "cell_type": "code",
   "execution_count": null,
   "id": "d871f8fc",
   "metadata": {},
   "outputs": [],
   "source": []
  }
 ],
 "metadata": {
  "kernelspec": {
   "display_name": "Python 3 (ipykernel)",
   "language": "python",
   "name": "python3"
  },
  "language_info": {
   "codemirror_mode": {
    "name": "ipython",
    "version": 3
   },
   "file_extension": ".py",
   "mimetype": "text/x-python",
   "name": "python",
   "nbconvert_exporter": "python",
   "pygments_lexer": "ipython3",
   "version": "3.9.13"
  }
 },
 "nbformat": 4,
 "nbformat_minor": 5
}
