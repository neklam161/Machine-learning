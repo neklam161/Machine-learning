{
 "cells": [
  {
   "cell_type": "markdown",
   "id": "b7e7534b",
   "metadata": {},
   "source": [
    "## Indexation normale"
   ]
  },
  {
   "cell_type": "code",
   "execution_count": 1,
   "id": "e725efac",
   "metadata": {},
   "outputs": [],
   "source": [
    "import numpy as np\n",
    "import pandas as pd"
   ]
  },
  {
   "cell_type": "code",
   "execution_count": 8,
   "id": "9495823a",
   "metadata": {},
   "outputs": [
    {
     "data": {
      "text/plain": [
       "1"
      ]
     },
     "execution_count": 8,
     "metadata": {},
     "output_type": "execute_result"
    }
   ],
   "source": [
    "arr= np.array([[[1,2,7],[3,4,8]],[[4,9,2],[5,3,1]]])\n",
    "arr.ndim\n",
    "arr[1] # deuxieme matrice\n",
    "arr[1][0] # premier ligne de deuxieme matrice\n",
    "arr[0][0][0] #Premier element du premier matrice au premier ligne"
   ]
  },
  {
   "cell_type": "code",
   "execution_count": 22,
   "id": "81dabfe9",
   "metadata": {},
   "outputs": [
    {
     "data": {
      "text/plain": [
       "array([[[1, 2, 7],\n",
       "        [3, 4, 8]],\n",
       "\n",
       "       [[0, 9, 2],\n",
       "        [5, 3, 1]]])"
      ]
     },
     "execution_count": 22,
     "metadata": {},
     "output_type": "execute_result"
    }
   ],
   "source": [
    "sub=arr[1][0]\n",
    "sub[0]=0\n",
    "arr\n",
    "# reference: sub est un pointeur vers la ligne de arr ce qui explique le changement de valeur de tab original\n"
   ]
  },
  {
   "cell_type": "markdown",
   "id": "892e8033",
   "metadata": {},
   "source": [
    "## Indexation negative"
   ]
  },
  {
   "cell_type": "code",
   "execution_count": 26,
   "id": "34e84dcc",
   "metadata": {},
   "outputs": [
    {
     "data": {
      "text/plain": [
       "array([0, 9, 2])"
      ]
     },
     "execution_count": 26,
     "metadata": {},
     "output_type": "execute_result"
    }
   ],
   "source": [
    "arr[-1,-2]"
   ]
  },
  {
   "cell_type": "markdown",
   "id": "c0101ccb",
   "metadata": {},
   "source": [
    "## NDARRAY SLICING"
   ]
  },
  {
   "cell_type": "code",
   "execution_count": 42,
   "id": "3580088e",
   "metadata": {},
   "outputs": [
    {
     "name": "stdout",
     "output_type": "stream",
     "text": [
      "[7 5 3]\n"
     ]
    }
   ],
   "source": [
    "arr=np.array([1,2,3,4,5,6,7,8])\n",
    "arr[2:5]\n",
    "arr[2:5:2]\n",
    "arr[8:2:-1]\n",
    "print(arr[-2:1:-2])\n"
   ]
  },
  {
   "cell_type": "code",
   "execution_count": 44,
   "id": "e329a6e2",
   "metadata": {},
   "outputs": [
    {
     "data": {
      "text/plain": [
       "array([6, 7])"
      ]
     },
     "execution_count": 44,
     "metadata": {},
     "output_type": "execute_result"
    }
   ],
   "source": [
    "arr=np.array([[1,2,3,4],[5,6,7,8],[9,10,11,12]])\n",
    "arr[1,1:3]"
   ]
  },
  {
   "cell_type": "code",
   "execution_count": 57,
   "id": "b46f34dd",
   "metadata": {},
   "outputs": [
    {
     "data": {
      "text/plain": [
       "array([[ 2,  3],\n",
       "       [10, 11]])"
      ]
     },
     "execution_count": 57,
     "metadata": {},
     "output_type": "execute_result"
    }
   ],
   "source": [
    "arr[1:,1:3]\n",
    "\n",
    "arr[::2,1:3]"
   ]
  },
  {
   "cell_type": "code",
   "execution_count": 61,
   "id": "6cad26da",
   "metadata": {},
   "outputs": [
    {
     "data": {
      "text/plain": [
       "array([[ 2,  3],\n",
       "       [10, 11]])"
      ]
     },
     "execution_count": 61,
     "metadata": {},
     "output_type": "execute_result"
    }
   ],
   "source": [
    "arr[[0,2],1:3]"
   ]
  },
  {
   "cell_type": "code",
   "execution_count": 64,
   "id": "acfa7491",
   "metadata": {},
   "outputs": [
    {
     "data": {
      "text/plain": [
       "array([[ 6,  7,  8],\n",
       "       [10, 11, 12]])"
      ]
     },
     "execution_count": 64,
     "metadata": {},
     "output_type": "execute_result"
    }
   ],
   "source": [
    "arr[1:,1:]"
   ]
  },
  {
   "cell_type": "code",
   "execution_count": 66,
   "id": "3fe38b31",
   "metadata": {},
   "outputs": [
    {
     "data": {
      "text/plain": [
       "array([[ 6,  7,  8],\n",
       "       [10, 11, 12]])"
      ]
     },
     "execution_count": 66,
     "metadata": {},
     "output_type": "execute_result"
    }
   ],
   "source": [
    "arr[-2:,-3:]"
   ]
  },
  {
   "cell_type": "markdown",
   "id": "2ffea93d",
   "metadata": {},
   "source": [
    "# Type de donnees dans Numpy\n"
   ]
  },
  {
   "cell_type": "markdown",
   "id": "9083f309",
   "metadata": {},
   "source": [
    "- i - integer\n",
    "- b - boolean\n",
    "- u - unsigned integer\n",
    "- f - float\n",
    "- c - complex float\n",
    "- m - timedelta\n",
    "- o - object\n",
    "- s - string\n",
    "- u - unicode string\n",
    "- v - fixed chunk of memory for other type\n"
   ]
  },
  {
   "cell_type": "code",
   "execution_count": 67,
   "id": "3af99d2d",
   "metadata": {},
   "outputs": [
    {
     "data": {
      "text/plain": [
       "dtype('int64')"
      ]
     },
     "execution_count": 67,
     "metadata": {},
     "output_type": "execute_result"
    }
   ],
   "source": [
    "arr.dtype"
   ]
  },
  {
   "cell_type": "code",
   "execution_count": 69,
   "id": "86cd2820",
   "metadata": {},
   "outputs": [
    {
     "data": {
      "text/plain": [
       "dtype('<U5')"
      ]
     },
     "execution_count": 69,
     "metadata": {},
     "output_type": "execute_result"
    }
   ],
   "source": [
    "arr= np.array([\"un\",\"deux\",\"trois\"])\n",
    "arr.dtype"
   ]
  },
  {
   "cell_type": "code",
   "execution_count": 71,
   "id": "0413ce5c",
   "metadata": {},
   "outputs": [
    {
     "data": {
      "text/plain": [
       "dtype('int32')"
      ]
     },
     "execution_count": 71,
     "metadata": {},
     "output_type": "execute_result"
    }
   ],
   "source": [
    "arr=np.array([1,2,3,4],dtype='i')\n",
    "arr.dtype\n",
    "# important"
   ]
  },
  {
   "cell_type": "markdown",
   "id": "548a91c1",
   "metadata": {},
   "source": [
    "On peut aussi definir la taille pour i,u,f,s et u"
   ]
  },
  {
   "cell_type": "code",
   "execution_count": 72,
   "id": "8c8640d7",
   "metadata": {},
   "outputs": [
    {
     "data": {
      "text/plain": [
       "dtype('int8')"
      ]
     },
     "execution_count": 72,
     "metadata": {},
     "output_type": "execute_result"
    }
   ],
   "source": [
    "arr=np.array([1,2,3,4],dtype='i1')\n",
    "arr.dtype"
   ]
  },
  {
   "cell_type": "code",
   "execution_count": 73,
   "id": "ca941bad",
   "metadata": {},
   "outputs": [
    {
     "data": {
      "text/plain": [
       "dtype('int8')"
      ]
     },
     "execution_count": 73,
     "metadata": {},
     "output_type": "execute_result"
    }
   ],
   "source": [
    "arr=np.array(['1','2','3','4'],dtype='i1')\n",
    "arr.dtype"
   ]
  },
  {
   "cell_type": "markdown",
   "id": "74e7a732",
   "metadata": {},
   "source": [
    "# Converstion du type de donnees\n"
   ]
  },
  {
   "cell_type": "code",
   "execution_count": 78,
   "id": "e9b36d6c",
   "metadata": {},
   "outputs": [
    {
     "name": "stdout",
     "output_type": "stream",
     "text": [
      "None\n"
     ]
    }
   ],
   "source": [
    "arr=np.array([1.1,2.1,3.1])\n",
    "new = arr.astype(str) # int,bool,float,'i','S','f'\n",
    "new # Cree un nouveau tableau\n",
    "arr\n",
    "\n",
    "# verifier que le tableau est authentic (recupere la source de donnees)\n",
    "print(new.base)\n"
   ]
  },
  {
   "cell_type": "markdown",
   "id": "20f7b950",
   "metadata": {},
   "source": [
    "# Copie et vue d'un ndarray (Copy vs View)"
   ]
  },
  {
   "cell_type": "markdown",
   "id": "c133a664",
   "metadata": {},
   "source": [
    "- copie : nouveau tableau\n",
    "- view : vue du tableau d'origin"
   ]
  },
  {
   "cell_type": "code",
   "execution_count": 80,
   "id": "3a0cd828",
   "metadata": {},
   "outputs": [
    {
     "name": "stdout",
     "output_type": "stream",
     "text": [
      "[42  2  3  4  5]\n",
      "[1 2 3 4 5]\n"
     ]
    }
   ],
   "source": [
    "arr= np.array([1,2,3,4,5])\n",
    "x= arr.copy()\n",
    "arr[0]=42\n",
    "print(arr)\n",
    "print(x)"
   ]
  },
  {
   "cell_type": "code",
   "execution_count": 81,
   "id": "15695b2f",
   "metadata": {},
   "outputs": [
    {
     "name": "stdout",
     "output_type": "stream",
     "text": [
      "[42  2  3  4  5]\n",
      "[42  2  3  4  5]\n"
     ]
    }
   ],
   "source": [
    "arr= np.array([1,2,3,4,5])\n",
    "x= arr.view()\n",
    "arr[0]=42\n",
    "print(arr)\n",
    "print(x)"
   ]
  },
  {
   "cell_type": "code",
   "execution_count": 95,
   "id": "3695abd7",
   "metadata": {},
   "outputs": [
    {
     "name": "stdout",
     "output_type": "stream",
     "text": [
      "None\n",
      "None\n",
      "[1 2 3 4 5]\n",
      "[1 2 3 4 5]\n",
      "None\n"
     ]
    }
   ],
   "source": [
    "arr=np.array([1,2,3,4,5])\n",
    "x=arr.copy()\n",
    "y=arr.view()\n",
    "z=arr[1:3]\n",
    "u=arr # not authentic because it is the same arr with another name\n",
    "print(arr.base)#authentic\n",
    "print(x.base)#authentic\n",
    "print(y.base)\n",
    "print(z.base)\n",
    "print(u.base)\n"
   ]
  },
  {
   "cell_type": "markdown",
   "id": "ef3cac6e",
   "metadata": {},
   "source": [
    "# Forme d'un ndarray(shape)"
   ]
  },
  {
   "cell_type": "code",
   "execution_count": 98,
   "id": "05bbe3e8",
   "metadata": {},
   "outputs": [
    {
     "data": {
      "text/plain": [
       "(3, 4)"
      ]
     },
     "execution_count": 98,
     "metadata": {},
     "output_type": "execute_result"
    }
   ],
   "source": [
    "arr=np.array([[1,2,3,4],[5,6,7,8],[9,10,11,12]])\n",
    "arr.shape"
   ]
  },
  {
   "cell_type": "code",
   "execution_count": 109,
   "id": "48322f6e",
   "metadata": {},
   "outputs": [
    {
     "data": {
      "text/plain": [
       "(3, 2, 2)"
      ]
     },
     "execution_count": 109,
     "metadata": {},
     "output_type": "execute_result"
    }
   ],
   "source": [
    "arr=np.array([[[1,2],[3,4]],[[5,6],[7,8]],[[9,10],[11,12]]])\n",
    "\n",
    "arr.shape\n"
   ]
  },
  {
   "cell_type": "code",
   "execution_count": 105,
   "id": "701e2c32",
   "metadata": {},
   "outputs": [],
   "source": [
    "arr=np.array([[[1,2],[3,4]],[[5,6],[7,8]],[[9,10],[11,12]]]).reshape(2,3,2)\n",
    "#2 ,3,2    [[[1,2],[ 3,4],[ 5,6]],[[ 7,8],[ 9,10],[11,12]]]\n",
    "#3,4   [[1,2,3,4],[5,6,7,8],[9,10,11,12]]\n",
    "#3,4,1 [[[1],[2],[3],[4]],[[5],[6],[7],[8]],[[9],[10],[11],[12]]]\n",
    "#4,1,3,1 [[[[1],[2],[3]]],[[[4],[5],[6]]],[[[7],[8],[9]]],[[[10],[11],[12]]]]\n",
    "#12,1,1 [[[1]],[[2]],[[3]],[[4]],[[5]],[[6]],[[7]],[[8]],[[9]],[[10]],[[11]],[[12]]]"
   ]
  },
  {
   "cell_type": "code",
   "execution_count": 119,
   "id": "27d2ec1c",
   "metadata": {},
   "outputs": [
    {
     "data": {
      "text/plain": [
       "(12, 1, 1)"
      ]
     },
     "execution_count": 119,
     "metadata": {},
     "output_type": "execute_result"
    }
   ],
   "source": [
    "np.array([[[1]],[[2]],[[3]],[[4]],[[5]],[[6]],[[7]],[[8]],[[9]],[[10]],[[11]],[[12]]]).shape"
   ]
  },
  {
   "cell_type": "markdown",
   "id": "e24109c4",
   "metadata": {},
   "source": [
    "# Parcourir les elements d'un ndarray"
   ]
  },
  {
   "cell_type": "code",
   "execution_count": 3,
   "id": "db71d6f1",
   "metadata": {},
   "outputs": [
    {
     "name": "stdout",
     "output_type": "stream",
     "text": [
      "1\n",
      "2\n",
      "3\n",
      "4\n",
      "5\n",
      "6\n"
     ]
    }
   ],
   "source": [
    "arr= np.array([[1,2,3],[4,5,6]])\n",
    "for x in arr:\n",
    "    for y in x:\n",
    "        print(y)"
   ]
  },
  {
   "cell_type": "code",
   "execution_count": 9,
   "id": "94d5e175",
   "metadata": {},
   "outputs": [
    {
     "name": "stdout",
     "output_type": "stream",
     "text": [
      "45\n"
     ]
    },
    {
     "data": {
      "text/plain": [
       "45"
      ]
     },
     "execution_count": 9,
     "metadata": {},
     "output_type": "execute_result"
    }
   ],
   "source": [
    "#sum des element de arr\n",
    "arr=np.array([[[1,2,3]],[[4,5,6]],[[7,8,9]]])\n",
    "#1\n",
    "s=0\n",
    "for x in arr.reshape(-1):\n",
    "    s+=x\n",
    "print(s)\n",
    "#2\n",
    "arr.sum()\n"
   ]
  },
  {
   "cell_type": "code",
   "execution_count": 10,
   "id": "13f98b57",
   "metadata": {},
   "outputs": [
    {
     "name": "stdout",
     "output_type": "stream",
     "text": [
      "(0, 0, 0) 1\n",
      "(0, 0, 1) 2\n",
      "(0, 0, 2) 3\n",
      "(1, 0, 0) 4\n",
      "(1, 0, 1) 5\n",
      "(1, 0, 2) 6\n",
      "(2, 0, 0) 7\n",
      "(2, 0, 1) 8\n",
      "(2, 0, 2) 9\n"
     ]
    }
   ],
   "source": [
    "for idx,x in np.ndenumerate(arr): #get indices and values\n",
    "    print(idx,x)"
   ]
  },
  {
   "cell_type": "markdown",
   "id": "6f882340",
   "metadata": {},
   "source": [
    "# Jointure des ndarray\n"
   ]
  },
  {
   "cell_type": "code",
   "execution_count": 13,
   "id": "dde38e0d",
   "metadata": {},
   "outputs": [
    {
     "data": {
      "text/plain": [
       "array([1, 2, 3, 4, 5, 6])"
      ]
     },
     "execution_count": 13,
     "metadata": {},
     "output_type": "execute_result"
    }
   ],
   "source": [
    "arr1= np.array([1,2,3])\n",
    "arr2= np.array([4,5,6])\n",
    "arr= np.concatenate((arr1,arr2))\n",
    "arr"
   ]
  },
  {
   "cell_type": "code",
   "execution_count": 15,
   "id": "d160a29b",
   "metadata": {},
   "outputs": [],
   "source": [
    "arr1= np.array([[1,2],[3,4]])\n",
    "arr2= np.array([[5,6],[7,8]])\n",
    "arr = np.concatenate((arr1,arr2),axis=1)\n"
   ]
  },
  {
   "cell_type": "code",
   "execution_count": 31,
   "id": "a2d43977",
   "metadata": {},
   "outputs": [
    {
     "name": "stdout",
     "output_type": "stream",
     "text": [
      "[[[ 1  2]\n",
      "  [ 3  4]]\n",
      "\n",
      " [[ 5  6]\n",
      "  [ 7  8]]\n",
      "\n",
      " [[ 9 10]\n",
      "  [11 12]]\n",
      "\n",
      " [[13 14]\n",
      "  [15 16]]]\n",
      "(4, 2, 2)\n",
      "-----------------------\n",
      "[[[ 1  2]\n",
      "  [ 3  4]\n",
      "  [ 9 10]\n",
      "  [11 12]]\n",
      "\n",
      " [[ 5  6]\n",
      "  [ 7  8]\n",
      "  [13 14]\n",
      "  [15 16]]]\n",
      "(2, 4, 2)\n",
      "-----------------------\n",
      "[[[ 1  2  9 10]\n",
      "  [ 3  4 11 12]]\n",
      "\n",
      " [[ 5  6 13 14]\n",
      "  [ 7  8 15 16]]]\n",
      "(2, 2, 4)\n"
     ]
    }
   ],
   "source": [
    "arr1=np.array([[[1,2],[3,4]],[[5,6],[7,8]]])\n",
    "arr2=np.array([[[9,10],[11,12]],[[13,14],[15,16]]])\n",
    "arr= np.concatenate((arr1,arr2))\n",
    "print(arr)\n",
    "print(arr.shape)\n",
    "print(\"-----------------------\")\n",
    "arr=arr = np.concatenate((arr1,arr2),axis=1)\n",
    "print(arr)\n",
    "print(arr.shape)\n",
    "print(\"-----------------------\")\n",
    "arr=arr = np.concatenate((arr1,arr2),axis=2)\n",
    "print(arr)\n",
    "print(arr.shape)"
   ]
  },
  {
   "cell_type": "markdown",
   "id": "1d73e587",
   "metadata": {},
   "source": [
    "# Fonction Stack"
   ]
  },
  {
   "cell_type": "markdown",
   "id": "796aedcc",
   "metadata": {},
   "source": [
    "difference est que se fait le long d'un nouveau stack"
   ]
  },
  {
   "cell_type": "code",
   "execution_count": 34,
   "id": "4cc43220",
   "metadata": {},
   "outputs": [
    {
     "name": "stdout",
     "output_type": "stream",
     "text": [
      "[[1 2 3]\n",
      " [4 5 6]]\n"
     ]
    }
   ],
   "source": [
    "arr1=np.array([1,2,3])\n",
    "arr2=np.array([4,5,6])\n",
    "arr=np.stack((arr1,arr2))\n",
    "print(arr)"
   ]
  },
  {
   "cell_type": "code",
   "execution_count": 37,
   "id": "21e7eef0",
   "metadata": {},
   "outputs": [
    {
     "name": "stdout",
     "output_type": "stream",
     "text": [
      "[[1 4]\n",
      " [2 5]\n",
      " [3 6]]\n"
     ]
    }
   ],
   "source": [
    "arr1=np.array([1,2,3])\n",
    "arr2=np.array([4,5,6])\n",
    "arr=np.stack((arr1,arr2),axis=1)\n",
    "print(arr)"
   ]
  },
  {
   "cell_type": "code",
   "execution_count": 39,
   "id": "35adbccb",
   "metadata": {},
   "outputs": [
    {
     "name": "stdout",
     "output_type": "stream",
     "text": [
      "[[[[ 1  2]\n",
      "   [ 3  4]]\n",
      "\n",
      "  [[ 5  6]\n",
      "   [ 7  8]]]\n",
      "\n",
      "\n",
      " [[[ 9 10]\n",
      "   [11 12]]\n",
      "\n",
      "  [[13 14]\n",
      "   [15 16]]]]\n",
      "(2, 2, 2, 2)\n",
      "-----------------------\n",
      "[[[[ 1  2]\n",
      "   [ 3  4]]\n",
      "\n",
      "  [[ 9 10]\n",
      "   [11 12]]]\n",
      "\n",
      "\n",
      " [[[ 5  6]\n",
      "   [ 7  8]]\n",
      "\n",
      "  [[13 14]\n",
      "   [15 16]]]]\n",
      "(2, 2, 2, 2)\n",
      "-----------------------\n",
      "[[[[ 1  2]\n",
      "   [ 9 10]]\n",
      "\n",
      "  [[ 3  4]\n",
      "   [11 12]]]\n",
      "\n",
      "\n",
      " [[[ 5  6]\n",
      "   [13 14]]\n",
      "\n",
      "  [[ 7  8]\n",
      "   [15 16]]]]\n",
      "(2, 2, 2, 2)\n"
     ]
    }
   ],
   "source": [
    "arr1=np.array([[[1,2],[3,4]],[[5,6],[7,8]]])\n",
    "arr2=np.array([[[9,10],[11,12]],[[13,14],[15,16]]])\n",
    "arr= np.stack((arr1,arr2))\n",
    "print(arr)\n",
    "print(arr.shape)\n",
    "print(\"-----------------------\")\n",
    "arr=arr = np.stack((arr1,arr2),axis=1)\n",
    "print(arr)\n",
    "print(arr.shape)\n",
    "print(\"-----------------------\")\n",
    "arr=arr = np.stack((arr1,arr2),axis=2)\n",
    "print(arr)\n",
    "print(arr.shape)"
   ]
  },
  {
   "cell_type": "code",
   "execution_count": null,
   "id": "7000185d",
   "metadata": {},
   "outputs": [],
   "source": [
    "# vstack\n",
    "#dstack"
   ]
  },
  {
   "cell_type": "markdown",
   "id": "08aa152b",
   "metadata": {},
   "source": [
    "# Fractionnner un ndarray"
   ]
  },
  {
   "cell_type": "code",
   "execution_count": 42,
   "id": "f6dd880d",
   "metadata": {},
   "outputs": [
    {
     "data": {
      "text/plain": [
       "[array([1, 2]), array([3, 4]), array([5]), array([6])]"
      ]
     },
     "execution_count": 42,
     "metadata": {},
     "output_type": "execute_result"
    }
   ],
   "source": [
    "arr = np.array([1,2,3,4,5,6])\n",
    "newarr=np.array_split(arr,4)\n",
    "newarr # list des ndarray\n"
   ]
  },
  {
   "cell_type": "code",
   "execution_count": 47,
   "id": "32b7cee4",
   "metadata": {},
   "outputs": [
    {
     "data": {
      "text/plain": [
       "[array([[ 1,  2],\n",
       "        [ 4,  5],\n",
       "        [ 7,  8],\n",
       "        [10, 11],\n",
       "        [13, 14],\n",
       "        [16, 17]]),\n",
       " array([[ 3],\n",
       "        [ 6],\n",
       "        [ 9],\n",
       "        [12],\n",
       "        [15],\n",
       "        [18]])]"
      ]
     },
     "execution_count": 47,
     "metadata": {},
     "output_type": "execute_result"
    }
   ],
   "source": [
    "arr= np.array([[1,2,3],[4,5,6],[7,8,9],[10,11,12],[13,14,15],[16,17,18]])\n",
    "newarr=np.array_split(arr,2,axis=1)\n",
    "newarr"
   ]
  },
  {
   "cell_type": "markdown",
   "id": "5fc9898d",
   "metadata": {},
   "source": [
    "# Recherche dans un ndarray"
   ]
  },
  {
   "cell_type": "code",
   "execution_count": 55,
   "id": "1ea42ba0",
   "metadata": {},
   "outputs": [
    {
     "name": "stdout",
     "output_type": "stream",
     "text": [
      "(array([0, 1, 2, 3, 4, 5, 6]),)\n",
      "[1 2 3 4 5 4 4]\n"
     ]
    }
   ],
   "source": [
    "arr = np.array([1,2,3,4,5,4,4])\n",
    "x=np.where(arr>0)\n",
    "print(x)\n",
    "print(arr[x])"
   ]
  },
  {
   "cell_type": "code",
   "execution_count": 56,
   "id": "a8d93822",
   "metadata": {},
   "outputs": [],
   "source": [
    "#search sorted"
   ]
  },
  {
   "cell_type": "markdown",
   "id": "ac806702",
   "metadata": {},
   "source": [
    "# Trier les ndarray"
   ]
  },
  {
   "cell_type": "code",
   "execution_count": 57,
   "id": "01129093",
   "metadata": {},
   "outputs": [
    {
     "data": {
      "text/plain": [
       "array([0, 1, 2, 3])"
      ]
     },
     "execution_count": 57,
     "metadata": {},
     "output_type": "execute_result"
    }
   ],
   "source": [
    "arr=np.array([3,2,0,1])\n",
    "v=np.sort(arr)\n",
    "v"
   ]
  },
  {
   "cell_type": "code",
   "execution_count": 78,
   "id": "f26e501a",
   "metadata": {},
   "outputs": [
    {
     "name": "stdout",
     "output_type": "stream",
     "text": [
      "[[2 3 4]\n",
      " [0 1 5]]\n",
      "[[3 0 1]\n",
      " [5 2 4]]\n"
     ]
    }
   ],
   "source": [
    "arr=np.array([[3,2,4],[5,0,1]])\n",
    "print(np.sort(arr,axis=1))\n",
    "print(np.sort(arr,axis=0))"
   ]
  },
  {
   "cell_type": "markdown",
   "id": "fc1ec1eb",
   "metadata": {},
   "source": [
    "# Filtrer les elements de ndarray"
   ]
  },
  {
   "cell_type": "code",
   "execution_count": 79,
   "id": "0300aeb8",
   "metadata": {},
   "outputs": [
    {
     "name": "stdout",
     "output_type": "stream",
     "text": [
      "[1 1 2]\n"
     ]
    }
   ],
   "source": [
    "arr=np.array([1,2,1,4,2])\n",
    "x=[True,False,True,False,True]\n",
    "newarr=arr[x]\n",
    "print(newarr)\n"
   ]
  },
  {
   "cell_type": "code",
   "execution_count": 81,
   "id": "065f0d0a",
   "metadata": {},
   "outputs": [
    {
     "data": {
      "text/plain": [
       "array([False, False, False,  True, False])"
      ]
     },
     "execution_count": 81,
     "metadata": {},
     "output_type": "execute_result"
    }
   ],
   "source": [
    "u=arr>3\n",
    "u"
   ]
  },
  {
   "cell_type": "code",
   "execution_count": 126,
   "id": "89b49f46",
   "metadata": {},
   "outputs": [
    {
     "name": "stdout",
     "output_type": "stream",
     "text": [
      "[['0' 'Border Collie' 'Brightest Dogs' '95%']\n",
      " ['1' 'Poodle' 'Brightest Dogs' '95%']\n",
      " ['2' 'German Shepherd' 'Brightest Dogs' '95%']\n",
      " ['3' 'Golden Retriever' 'Brightest Dogs' '95%']\n",
      " ['4' 'Doberman Pinscher' 'Brightest Dogs' '95%']\n",
      " ['5' 'Shetland Sheepdog' 'Brightest Dogs' '95%']\n",
      " ['6' 'Labrador Retriever' 'Brightest Dogs' '95%']\n",
      " ['7' 'Papillon' 'Brightest Dogs' '95%']\n",
      " ['8' 'Rottweiler' 'Brightest Dogs' '95%']\n",
      " ['9' 'Australian Cattle Dog' 'Brightest Dogs' '95%']\n",
      " ['10' 'Pembroke Welsh Corgi' 'Excellent Working Dogs' '85%']\n",
      " ['11' 'Miniature Schnauzer' 'Excellent Working Dogs' '85%']\n",
      " ['12' 'English Springer Spaniel' 'Excellent Working Dogs' '85%']\n",
      " ['13' 'Belgian Shepherd Dog (Tervuren)' 'Excellent Working Dogs' '85%']\n",
      " ['14' 'Schipperke' 'Excellent Working Dogs' '85%']\n",
      " ['15' 'Belgian Sheepdog' 'Excellent Working Dogs' '85%']\n",
      " ['16' 'Collie' 'Excellent Working Dogs' '85%']\n",
      " ['17' 'Keeshond' 'Excellent Working Dogs' '85%']\n",
      " ['18' 'German Shorthaired Pointer' 'Excellent Working Dogs' '85%']\n",
      " ['19' 'Flat-Coated Retriever' 'Excellent Working Dogs' '85%']\n",
      " ['20' 'English Cocker Spaniel' 'Excellent Working Dogs' '85%']\n",
      " ['21' 'Standard Schnauzer' 'Excellent Working Dogs' '85%']\n",
      " ['22' 'Brittany' 'Excellent Working Dogs' '85%']\n",
      " ['23' 'Cocker Spaniel' 'Excellent Working Dogs' '85%']\n",
      " ['24' 'Weimaraner' 'Excellent Working Dogs' '85%']\n",
      " ['25' 'Belgian Malinois' 'Excellent Working Dogs' '85%']\n",
      " ['26' 'Bernese Mountain Dog' 'Excellent Working Dogs' '85%']\n",
      " ['27' 'Pomeranian' 'Excellent Working Dogs' '85%']\n",
      " ['28' 'Irish Water Spaniel' 'Excellent Working Dogs' '85%']\n",
      " ['29' 'Vizsla' 'Excellent Working Dogs' '85%']\n",
      " ['30' 'Cardigan Welsh Corgi' 'Excellent Working Dogs' '85%']\n",
      " ['31' 'Chesapeake Bay Retriever' 'Above Average Working Dogs' '70%']\n",
      " ['32' 'Puli' 'Above Average Working Dogs' '70%']\n",
      " ['33' 'Yorkshire Terrier' 'Above Average Working Dogs' '70%']\n",
      " ['34' 'Giant Schnauzer' 'Above Average Working Dogs' '70%']\n",
      " ['35' 'Portuguese Water Dog' 'Above Average Working Dogs' '70%']\n",
      " ['36' 'Airedale Terrier' 'Above Average Working Dogs' '70%']\n",
      " ['37' 'Bouvier des Flandres' 'Above Average Working Dogs' '70%']\n",
      " ['38' 'Border Terrier' 'Above Average Working Dogs' '70%']\n",
      " ['39' 'Briard' 'Above Average Working Dogs' '70%']\n",
      " ['40' 'Welsh Springer Spaniel' 'Above Average Working Dogs' '70%']\n",
      " ['41' 'Manchester Terrier' 'Above Average Working Dogs' '70%']\n",
      " ['42' 'Samoyed' 'Above Average Working Dogs' '70%']\n",
      " ['43' 'Field Spaniel' 'Above Average Working Dogs' '70%']\n",
      " ['44' 'Newfoundland' 'Above Average Working Dogs' '70%']\n",
      " ['45' 'Australian Terrier' 'Above Average Working Dogs' '70%']\n",
      " ['46' 'American Staffordshire Terrier' 'Above Average Working Dogs'\n",
      "  '70%']\n",
      " ['47' 'Gordon Setter' 'Above Average Working Dogs' '70%']\n",
      " ['48' 'Bearded Collie' 'Above Average Working Dogs' '70%']\n",
      " ['49' 'Cairn Terrier' 'Above Average Working Dogs' '70%']\n",
      " ['50' 'Kerry Blue Terrier' 'Above Average Working Dogs' '70%']\n",
      " ['51' 'Irish Setter' 'Above Average Working Dogs' '70%']\n",
      " ['52' 'Norwegian Elkhound' 'Above Average Working Dogs' '70%']\n",
      " ['53' 'Affenpinscher' 'Above Average Working Dogs' '70%']\n",
      " ['54' 'Australian Silky Terrier' 'Above Average Working Dogs' '70%']\n",
      " ['55' 'Miniature Pinscher' 'Above Average Working Dogs' '70%']\n",
      " ['56' 'English Setter' 'Above Average Working Dogs' '70%']\n",
      " ['57' 'Pharaoh Hound' 'Above Average Working Dogs' '70%']\n",
      " ['58' 'Clumber Spaniel' 'Above Average Working Dogs' '70%']\n",
      " ['59' 'Norwich Terrier' 'Above Average Working Dogs' '70%']\n",
      " ['60' 'Dalmatian' 'Above Average Working Dogs' '70%']\n",
      " ['61' 'Soft-coated Wheaten Terrier'\n",
      "  'Average Working/Obedience Intelligence' '50%']\n",
      " ['62' 'Bedlington Terrier' 'Average Working/Obedience Intelligence'\n",
      "  '50%']\n",
      " ['63' 'Fox Terrier (Smooth)' 'Average Working/Obedience Intelligence'\n",
      "  '50%']\n",
      " ['64' 'Curly Coated Retriever' 'Average Working/Obedience Intelligence'\n",
      "  '50%']\n",
      " ['65' 'Irish Wolfhound' 'Average Working/Obedience Intelligence' '50%']\n",
      " ['66' 'Kuvasz' 'Average Working/Obedience Intelligence' '50%']\n",
      " ['67' 'Australian Shepherd' 'Average Working/Obedience Intelligence'\n",
      "  '50%']\n",
      " ['68' 'Saluki' 'Average Working/Obedience Intelligence' '50%']\n",
      " ['69' 'Finnish Spitz' 'Average Working/Obedience Intelligence' '50%']\n",
      " ['70' 'Pointer' 'Average Working/Obedience Intelligence' '50%']\n",
      " ['71' 'Cavalier King Charles Spaniel'\n",
      "  'Average Working/Obedience Intelligence' '50%']\n",
      " ['72' 'German Wirehaired Pointer'\n",
      "  'Average Working/Obedience Intelligence' '50%']\n",
      " ['73' 'Black and Tan Coonhound' 'Average Working/Obedience Intelligence'\n",
      "  '50%']\n",
      " ['74' 'American Water Spaniel' 'Average Working/Obedience Intelligence'\n",
      "  '50%']\n",
      " ['75' 'Siberian Husky' 'Average Working/Obedience Intelligence' '50%']\n",
      " ['76' 'Bichon Frise' 'Average Working/Obedience Intelligence' '50%']\n",
      " ['77' 'King Charles Spaniel' 'Average Working/Obedience Intelligence'\n",
      "  '50%']\n",
      " ['78' 'Tibetan Spaniel' 'Average Working/Obedience Intelligence' '50%']\n",
      " ['79' 'English Foxhound' 'Average Working/Obedience Intelligence' '50%']\n",
      " ['80' 'Otterhound' 'Average Working/Obedience Intelligence' '50%']\n",
      " ['81' 'Jack Russell terrier' 'Average Working/Obedience Intelligence'\n",
      "  '50%']\n",
      " ['82' 'American Foxhound' 'Average Working/Obedience Intelligence' '50%']\n",
      " ['83' 'Greyhound' 'Average Working/Obedience Intelligence' '50%']\n",
      " ['84' 'Wirehaired Pointing Griffon'\n",
      "  'Average Working/Obedience Intelligence' '50%']\n",
      " ['85' 'West Highland White Terrier'\n",
      "  'Average Working/Obedience Intelligence' '50%']\n",
      " ['86' 'Havanese' 'Average Working/Obedience Intelligence' '50%']\n",
      " ['87' 'Scottish Deerhound' 'Average Working/Obedience Intelligence'\n",
      "  '50%']\n",
      " ['88' 'Boxer' 'Average Working/Obedience Intelligence' '50%']\n",
      " ['89' 'Great Dane' 'Average Working/Obedience Intelligence' '50%']\n",
      " ['90' 'Dachshund' 'Average Working/Obedience Intelligence' '50%']\n",
      " ['91' 'Shiba Inu' 'Average Working/Obedience Intelligence' '50%']\n",
      " ['92' 'Staffordshire Bull Terrier'\n",
      "  'Average Working/Obedience Intelligence' '50%']\n",
      " ['93' 'Alaskan Malamute' 'Average Working/Obedience Intelligence' '50%']\n",
      " ['94' 'Whippet' 'Average Working/Obedience Intelligence' '50%']\n",
      " ['95' 'Chinese Shar Pei' 'Average Working/Obedience Intelligence' '50%']\n",
      " ['96' 'Wire Fox Terrier' 'Average Working/Obedience Intelligence' '50%']\n",
      " ['97' 'Rhodesian Ridgeback' 'Average Working/Obedience Intelligence'\n",
      "  '50%']\n",
      " ['98' 'Ibizan Hound' 'Average Working/Obedience Intelligence' '50%']\n",
      " ['99' 'Welsh Terrier' 'Average Working/Obedience Intelligence' '50%']\n",
      " ['100' 'Irish Terrier' 'Average Working/Obedience Intelligence' '50%']\n",
      " ['101' 'Boston Terrier' 'Average Working/Obedience Intelligence' '50%']\n",
      " ['102' 'Akita' 'Average Working/Obedience Intelligence' '50%']\n",
      " ['103' 'Skye Terrier' 'Fair Working/Obedience Intelligence' '30%']\n",
      " ['104' 'Norfolk Terrier' 'Fair Working/Obedience Intelligence' '30%']\n",
      " ['105' 'Sealyham Terrier' 'Fair Working/Obedience Intelligence' '30%']\n",
      " ['106' 'Pug' 'Fair Working/Obedience Intelligence' '30%']\n",
      " ['107' 'French Bulldog' 'Fair Working/Obedience Intelligence' '30%']\n",
      " ['108' 'Griffon Bruxellois' 'Fair Working/Obedience Intelligence' '30%']\n",
      " ['109' 'Maltese' 'Fair Working/Obedience Intelligence' '30%']\n",
      " ['110' 'Italian Greyhound' 'Fair Working/Obedience Intelligence' '30%']\n",
      " ['111' 'Chinese Crested' 'Fair Working/Obedience Intelligence' '30%']\n",
      " ['112' 'Dandie Dinmont Terrier' 'Fair Working/Obedience Intelligence'\n",
      "  '30%']\n",
      " ['113' 'Petit Basset Griffon Vend̩en'\n",
      "  'Fair Working/Obedience Intelligence' '30%']\n",
      " ['114' 'Tibetan Terrier' 'Fair Working/Obedience Intelligence' '30%']\n",
      " ['115' 'Japanese Chin' 'Fair Working/Obedience Intelligence' '30%']\n",
      " ['116' 'Lakeland Terrier' 'Fair Working/Obedience Intelligence' '30%']\n",
      " ['117' 'Old English Sheepdog' 'Fair Working/Obedience Intelligence'\n",
      "  '30%']\n",
      " ['118' 'Great Pyrenees' 'Fair Working/Obedience Intelligence' '30%']\n",
      " ['119' 'Scottish Terrier' 'Fair Working/Obedience Intelligence' '30%']\n",
      " ['120' 'Saint Bernard' 'Fair Working/Obedience Intelligence' '30%']\n",
      " ['121' 'Bull Terrier' 'Fair Working/Obedience Intelligence' '30%']\n",
      " ['122' 'Chihuahua' 'Fair Working/Obedience Intelligence' '30%']\n",
      " ['123' 'Lhasa Apso' 'Fair Working/Obedience Intelligence' '30%']\n",
      " ['124' 'Bullmastiff' 'Fair Working/Obedience Intelligence' '30%']\n",
      " ['125' 'Shih Tzu' 'Lowest Degree of Working/Obedience Intelligence ' nan]\n",
      " ['126' 'Basset Hound' 'Lowest Degree of Working/Obedience Intelligence '\n",
      "  nan]\n",
      " ['127' 'Mastiff' 'Lowest Degree of Working/Obedience Intelligence ' nan]\n",
      " ['128' 'Beagle' 'Lowest Degree of Working/Obedience Intelligence ' nan]\n",
      " ['129' 'Pekingese' 'Lowest Degree of Working/Obedience Intelligence '\n",
      "  nan]\n",
      " ['130' 'Bloodhound' 'Lowest Degree of Working/Obedience Intelligence '\n",
      "  nan]\n",
      " ['131' 'Borzoi' 'Lowest Degree of Working/Obedience Intelligence ' nan]\n",
      " ['132' 'Chow Chow' 'Lowest Degree of Working/Obedience Intelligence '\n",
      "  nan]\n",
      " ['133' 'Bulldog' 'Lowest Degree of Working/Obedience Intelligence ' nan]\n",
      " ['134' 'Basenji' 'Lowest Degree of Working/Obedience Intelligence ' nan]\n",
      " ['135' 'Afghan Hound' 'Lowest Degree of Working/Obedience Intelligence '\n",
      "  nan]]\n",
      "[['0' 'Border Collie' 'Brightest Dogs' '95%']\n",
      " ['1' 'Poodle' 'Brightest Dogs' '95%']\n",
      " ['2' 'German Shepherd' 'Brightest Dogs' '95%']\n",
      " ['3' 'Golden Retriever' 'Brightest Dogs' '95%']\n",
      " ['4' 'Doberman Pinscher' 'Brightest Dogs' '95%']\n",
      " ['5' 'Shetland Sheepdog' 'Brightest Dogs' '95%']\n",
      " ['6' 'Labrador Retriever' 'Brightest Dogs' '95%']\n",
      " ['7' 'Papillon' 'Brightest Dogs' '95%']\n",
      " ['8' 'Rottweiler' 'Brightest Dogs' '95%']\n",
      " ['9' 'Australian Cattle Dog' 'Brightest Dogs' '95%']]\n",
      "(10, 4)\n"
     ]
    }
   ],
   "source": [
    "#exercice \n",
    "\n",
    "#get clean data and removing header\n",
    "data=pd.read_csv(\"dog_intelligence.csv\",header=None)\n",
    "arraydata=data.values[1:,:-2]\n",
    "print(arraydata)\n",
    "\n",
    "\n",
    "#cleaning data\n",
    "arraydata.shape\n",
    "\n",
    "# total of brightest dogs\n",
    "print(arraydata[arraydata[:,2]==\"Brightest Dogs\"][])\n",
    "print(arraydata[arraydata[:,2]==\"Brightest Dogs\"].shape)\n",
    "\n"
   ]
  },
  {
   "cell_type": "markdown",
   "id": "4f7f3100",
   "metadata": {},
   "source": [
    "# Ufuncs"
   ]
  },
  {
   "cell_type": "code",
   "execution_count": 129,
   "id": "2a95fa90",
   "metadata": {},
   "outputs": [
    {
     "name": "stdout",
     "output_type": "stream",
     "text": [
      "[5 7 9 11]\n",
      "<class 'numpy.ufunc'>\n"
     ]
    }
   ],
   "source": [
    "x=[1,2,3,4]\n",
    "y=[4,5,6,7]\n",
    "z=[]\n",
    "\n",
    "\n",
    "def add(x,y):\n",
    "    return x+y\n",
    "addArr=np.frompyfunc(add,2,1)#function 2 parameters 1 output\n",
    "print(addArr([1,2,3,4],[4,5,6,7]))\n",
    "print(type(addArr))"
   ]
  },
  {
   "cell_type": "markdown",
   "id": "10632243",
   "metadata": {},
   "source": [
    " predefined ufuncs\n",
    "- np.add\n",
    "- np.substr\n",
    "- np.mod\n",
    "- np.divide\n",
    "- np.power\n",
    "- np.remainder\n",
    "- np.absolute"
   ]
  },
  {
   "cell_type": "code",
   "execution_count": 3,
   "id": "200904ec",
   "metadata": {},
   "outputs": [
    {
     "name": "stdout",
     "output_type": "stream",
     "text": [
      "11056\n"
     ]
    }
   ],
   "source": [
    "u=np.array([101,-11,12,-13,14,15])\n",
    "print(np.sum(np.multiply(u,u))) "
   ]
  },
  {
   "cell_type": "code",
   "execution_count": 4,
   "id": "92fb2f44",
   "metadata": {},
   "outputs": [
    {
     "data": {
      "text/plain": [
       "array([101,  11,  12,  13,  14,  15])"
      ]
     },
     "execution_count": 4,
     "metadata": {},
     "output_type": "execute_result"
    }
   ],
   "source": [
    "np.absolute(u)"
   ]
  },
  {
   "cell_type": "markdown",
   "id": "73dd4834",
   "metadata": {},
   "source": [
    "# Arrondir les decimales\n"
   ]
  },
  {
   "cell_type": "markdown",
   "id": "c6d0a65d",
   "metadata": {},
   "source": [
    "- truncation\n",
    "- fix\n",
    "- rounding\n",
    "- floor\n",
    "- ceil"
   ]
  },
  {
   "cell_type": "code",
   "execution_count": 5,
   "id": "eb8c2793",
   "metadata": {},
   "outputs": [
    {
     "name": "stdout",
     "output_type": "stream",
     "text": [
      "[-3.  3.]\n"
     ]
    }
   ],
   "source": [
    "arr = np.array([-3.1645,3.6667])\n",
    "a=np.trunc(arr)\n",
    "print(a)\n",
    "a=np.fix(arr)\n",
    "print(a)\n",
    "a=np.trunc(arr)\n",
    "print(a)\n",
    "a=np.trunc(arr)\n",
    "print(a)#"
   ]
  },
  {
   "cell_type": "code",
   "execution_count": 6,
   "id": "919454d9",
   "metadata": {},
   "outputs": [
    {
     "name": "stdout",
     "output_type": "stream",
     "text": [
      "[0.         0.69314718 1.09861229]\n"
     ]
    }
   ],
   "source": [
    "arr1=np.array([1,2,3])\n",
    "arr2=np.array([1,12,3])\n",
    "\n",
    "newarr=np.sum([arr1,arr2])\n",
    "print(np.log(arr1))\n"
   ]
  },
  {
   "cell_type": "code",
   "execution_count": 7,
   "id": "45d3faea",
   "metadata": {},
   "outputs": [
    {
     "name": "stdout",
     "output_type": "stream",
     "text": [
      "[array([1, 2, 3]), array([1, 2, 3])]\n",
      "12\n",
      "****************\n",
      "[array([1, 2, 3]), array([1, 2, 3])]\n",
      "[2 4 6]\n",
      "****************\n",
      "[array([1, 2, 3]), array([1, 2, 3])]\n",
      "[6 6]\n"
     ]
    }
   ],
   "source": [
    "# sum by axis\n",
    "arr1=np.array([1,2,3])\n",
    "arr2=np.array([1,2,3])\n",
    "mat=[arr1,arr2]\n",
    "\n",
    "newarr=np.sum(mat)\n",
    "print(mat)\n",
    "print(newarr)\n",
    "print(\"****************\")\n",
    "newarr=np.sum(mat,axis=0)\n",
    "print(mat)\n",
    "print(newarr)\n",
    "print(\"****************\")\n",
    "newarr=np.sum(mat,axis=1)\n",
    "print(mat)\n",
    "print(newarr)"
   ]
  },
  {
   "cell_type": "code",
   "execution_count": null,
   "id": "4022f3c0",
   "metadata": {},
   "outputs": [],
   "source": [
    "arr = np.array([1,2,3])\n",
    "newarr = np.cum"
   ]
  },
  {
   "cell_type": "code",
   "execution_count": null,
   "id": "e64c87ce",
   "metadata": {},
   "outputs": [],
   "source": [
    "#diff"
   ]
  },
  {
   "cell_type": "code",
   "execution_count": 9,
   "id": "d9c74cdb",
   "metadata": {},
   "outputs": [],
   "source": [
    "from numpy import random\n"
   ]
  },
  {
   "cell_type": "markdown",
   "id": "b8bc199f",
   "metadata": {},
   "source": [
    "# Distribution binomial\n"
   ]
  },
  {
   "cell_type": "code",
   "execution_count": 10,
   "id": "9f7174c4",
   "metadata": {},
   "outputs": [
    {
     "name": "stdout",
     "output_type": "stream",
     "text": [
      "[8 7 5 6 3 6 5 5 4 7 6 5 6 6 6 6 3 4 8 5 7 7 4 7 5 7 5 2 3 6 7 6 4 7 7 6 4\n",
      " 5 6 3 6 7 5 4 3 7 5 4 5 8 5 7 5 8 5 2 5 7 5 4 5 8 5 3 2 6 3 3 4 4 5 2 5 3\n",
      " 6 6 2 5 7 5 6 5 4 6 7 7 5 5 7 3 7 4 6 5 3 7 5 6 5 2]\n"
     ]
    }
   ],
   "source": [
    "x= random.binomial(n=10,p=0.5,size=100)\n",
    "print(x)"
   ]
  },
  {
   "cell_type": "code",
   "execution_count": 11,
   "id": "b2c8b476",
   "metadata": {},
   "outputs": [],
   "source": [
    "import seaborn as sns\n"
   ]
  },
  {
   "cell_type": "markdown",
   "id": "619cc18c",
   "metadata": {},
   "source": [
    "# Distribution uniforme"
   ]
  },
  {
   "cell_type": "code",
   "execution_count": null,
   "id": "2dd1d403",
   "metadata": {},
   "outputs": [],
   "source": []
  }
 ],
 "metadata": {
  "kernelspec": {
   "display_name": "Python 3 (ipykernel)",
   "language": "python",
   "name": "python3"
  },
  "language_info": {
   "codemirror_mode": {
    "name": "ipython",
    "version": 3
   },
   "file_extension": ".py",
   "mimetype": "text/x-python",
   "name": "python",
   "nbconvert_exporter": "python",
   "pygments_lexer": "ipython3",
   "version": "3.9.13"
  }
 },
 "nbformat": 4,
 "nbformat_minor": 5
}
